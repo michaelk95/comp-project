{
 "cells": [
  {
   "cell_type": "markdown",
   "metadata": {},
   "source": [
    "# Beam Analysis"
   ]
  },
  {
   "cell_type": "code",
   "execution_count": 7,
   "metadata": {},
   "outputs": [],
   "source": [
    "def calculateShit(input):\n",
    "    pass\n",
    "\n",
    "class BeamAnalysis:\n",
    "    def __init__(self):\n",
    "        self.position = 0\n",
    "        self.force = 0\n",
    "        self.temp = 272 #K\n",
    "        self.boundry = 0\n",
    "        self.length = 10 #meters\n",
    "    \n",
    "    def setPosition(self, val):\n",
    "        self.position = val\n",
    "    \n",
    "    def getPosition(self):\n",
    "        return self.position\n",
    "    \n",
    "    def setForce(self, val):\n",
    "        self.force = val\n",
    "    \n",
    "    def getForce(self):\n",
    "        return self.force\n",
    "    \n",
    "    def setTemp(self, val):\n",
    "        self.temp = val\n",
    "    \n",
    "    def getTemp(self):\n",
    "        return self.temp\n",
    "    \n",
    "    def setLength(self, val):\n",
    "        self.Length = val\n",
    "    \n",
    "    def getLength(self):\n",
    "        return self.Length\n",
    "    \n",
    "    def setBoundry(self, val):\n",
    "        self.boundry = val\n",
    "    \n",
    "    def getBoundry(self):\n",
    "        return self.boundry\n",
    "    \n",
    "    def calc(self):\n",
    "        #call math function\n",
    "        pass\n",
    "        \n",
    "    "
   ]
  },
  {
   "cell_type": "code",
   "execution_count": 8,
   "metadata": {},
   "outputs": [
    {
     "name": "stdout",
     "output_type": "stream",
     "text": [
      "10\n"
     ]
    }
   ],
   "source": [
    "beam = BeamAnalysis()\n",
    "\n",
    "beam.setPosition(10)\n",
    "\n",
    "print(beam.getPosition())\n"
   ]
  }
 ],
 "metadata": {
  "kernelspec": {
   "display_name": "Python 3",
   "language": "python",
   "name": "python3"
  },
  "language_info": {
   "codemirror_mode": {
    "name": "ipython",
    "version": 3
   },
   "file_extension": ".py",
   "mimetype": "text/x-python",
   "name": "python",
   "nbconvert_exporter": "python",
   "pygments_lexer": "ipython3",
   "version": "3.6.1"
  }
 },
 "nbformat": 4,
 "nbformat_minor": 2
}
